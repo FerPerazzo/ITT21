{
 "cells": [
  {
   "cell_type": "code",
   "execution_count": 4,
   "id": "7d4efba9-781a-42ac-953a-ef3e2156c198",
   "metadata": {},
   "outputs": [],
   "source": [
    "import numpy as np\n",
    "import matplotlib.pyplot as plt\n",
    "from scipy.stats import t"
   ]
  },
  {
   "cell_type": "code",
   "execution_count": null,
   "id": "941c88bb-53ca-42e2-86df-5317eb411eb0",
   "metadata": {},
   "outputs": [],
   "source": [
    "def RunTrial(n1, n2, mu_A, mu_C, sigma, pval):\n",
    "\n",
    "    X_A = np.random.normal(loc=mu_A, scale=sigma, size=n1)\n",
    "    X_C = np.random.normal(loc=mu_C, scale=sigma, size=n1)\n",
    "    T = X_A - X_C\n",
    "    Z = (T - np.mean(T)) / np.sd(T, df=1)\n",
    "    \n",
    "    if t.sf(Z, df=n1-1) > pval:\n",
    "        return 1, n1\n",
    "    \n",
    "    X_A = np.concatenate(X_A, np.random.normal(loc=mu_A, scale=sigma, size=n1))\n",
    "    X_C = np.concatenate(X_A, np.random.normal(loc=mu_A, scale=sigma, size=n1))\n",
    "    T = X_A - X_C\n",
    "    Z = (T - np.mean(T)) / np.sd(T, df=1)\n",
    "\n",
    "    if t.sf(Z, df=n1+n2) > pval:\n",
    "        return 1, n1+n2\n",
    "\n",
    "    return 0, n1+n2"
   ]
  },
  {
   "cell_type": "code",
   "execution_count": 3,
   "id": "0116fd89-c606-4d4f-bb92-dc33a3dbde75",
   "metadata": {},
   "outputs": [],
   "source": [
    "n1    = 112\n",
    "n2    = 227\n",
    "mu_A  = 0.5\n",
    "mu_C  = 0\n",
    "sigma = np.sqrt(2)"
   ]
  }
 ],
 "metadata": {
  "kernelspec": {
   "display_name": "Python 3",
   "language": "python",
   "name": "python3"
  },
  "language_info": {
   "codemirror_mode": {
    "name": "ipython",
    "version": 3
   },
   "file_extension": ".py",
   "mimetype": "text/x-python",
   "name": "python",
   "nbconvert_exporter": "python",
   "pygments_lexer": "ipython3",
   "version": "3.9.6"
  }
 },
 "nbformat": 4,
 "nbformat_minor": 5
}
