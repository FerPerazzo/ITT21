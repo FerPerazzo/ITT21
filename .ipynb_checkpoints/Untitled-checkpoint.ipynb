{
 "cells": [
  {
   "cell_type": "code",
   "execution_count": 2,
   "id": "7d4efba9-781a-42ac-953a-ef3e2156c198",
   "metadata": {},
   "outputs": [],
   "source": [
    "import numpy as np\n",
    "import matplotlib.pyplot as plt\n",
    "#pandas, scipy"
   ]
  },
  {
   "cell_type": "code",
   "execution_count": 12,
   "id": "0116fd89-c606-4d4f-bb92-dc33a3dbde75",
   "metadata": {},
   "outputs": [
    {
     "name": "stdout",
     "output_type": "stream",
     "text": [
      "0.07448887368680104 0.006301296215435356\n",
      "0.9922653979551171 0.9885760689986666\n"
     ]
    }
   ],
   "source": [
    "size1=100\n",
    "size2=200\n",
    "effect=0\n",
    "standard_dev=1\n",
    "data1=np.random.normal(loc=effect,scale=standard_dev,size=size1)\n",
    "data2=np.random.normal(loc=effect,scale=standard_dev,size=size2)\n",
    "datafull=np.append(data1,data2)\n",
    "mean1=np.mean(data1)\n",
    "std1=np.std(data1)\n",
    "meanfull=np.mean(datafull)\n",
    "stdfull=np.std(datafull)\n",
    "\n",
    "\n",
    "print(mean1,meanfull)\n",
    "print(std1,stdfull)"
   ]
  },
  {
   "cell_type": "code",
   "execution_count": null,
   "id": "941c88bb-53ca-42e2-86df-5317eb411eb0",
   "metadata": {},
   "outputs": [],
   "source": []
  }
 ],
 "metadata": {
  "kernelspec": {
   "display_name": "Python 3 (ipykernel)",
   "language": "python",
   "name": "python3"
  },
  "language_info": {
   "codemirror_mode": {
    "name": "ipython",
    "version": 3
   },
   "file_extension": ".py",
   "mimetype": "text/x-python",
   "name": "python",
   "nbconvert_exporter": "python",
   "pygments_lexer": "ipython3",
   "version": "3.12.3"
  }
 },
 "nbformat": 4,
 "nbformat_minor": 5
}
